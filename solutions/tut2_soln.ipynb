{
 "cells": [
  {
   "cell_type": "markdown",
   "metadata": {},
   "source": [
    "# TUTORIAL #2\n",
    "\n",
    "In this tutorial, we shall numerically compute the Berry phase and the Chern number for various lattice models. \n",
    "$$ \n",
    "\\gdef\\e{ {\\mathrm{e}} }\n",
    "\\gdef\\i{ {\\mathrm{i}} }\n",
    "\\gdef\\dg{{\\dagger}} \n",
    "\\gdef\\pdg{{\\phantom{\\dagger}}} \n",
    "\\gdef\\hlt{\\mathcal{H}}\n",
    "\\gdef\\nuc{\\mathfrak{n}}\n",
    "\\gdef\\c{c^\\pdg}\n",
    "\\gdef\\cd{c^\\dg}\n",
    "\\gdef\\bc{\\mathbf{c}}\n",
    "\\gdef\\vc{\\mathbf{c}^\\pdg}\n",
    "\\gdef\\vcd{\\mathbf{c}^\\dg}\n",
    "\\gdef\\ve{\\varepsilon}\n",
    "\\gdef\\vk{\\mathbf{k}}\n",
    "\\gdef\\cmplx{\\mathbb{C}}\n",
    "\\gdef\\ket#1{\\left\\lvert #1 \\right\\rangle} \n",
    "\\gdef\\bconn{\\mathcal{A}}\n",
    "\\gdef\\bcurv{\\mathcal{F}}\n",
    "\\gdef\\tr{\\mathrm{tr}}\n",
    "$$ "
   ]
  },
  {
   "cell_type": "markdown",
   "metadata": {},
   "source": [
    "# Berry connection/curvature\n",
    "Given the eigenvalue problem for the Bloch Hamiltonian as $\\hlt_B(\\vk) u_n(\\vk) = \\ve_n u_n(\\vk)$, the components of the Berry connection $\\bconn_n = \\bconn_{n,i} dk^i$ and the Berry curvature $\\bcurv_n = \\frac12 \\bcurv_{n,ij} dk^i \\wedge dk^j$ for the $n^\\text{th}$ band are defined as \n",
    "\n",
    "$$\\bconn_{n,i} = \\i u^\\dg \\partial_i u, \\qquad \n",
    "    \\bcurv_{n,i} = \\i \\left[ (\\partial_i u^\\dg) (\\partial_j u) - (\\partial_j u^\\dg) (\\partial_i u) \\right], \n",
    "$$\n",
    "\n",
    "where $\\partial_i \\equiv \\partial/\\partial k^i$. Under a change of the phase of the wavefunction as $u_n(\\vk) \\to u_n(\\vk) \\e^{-\\i \\varphi(\\vk)}$, the Berry connection transforms as a U$(1)$ gauge field, _viz_, $\\bconn_n \\to \\bconn_n + d \\varphi$, while the Berry curvature is invariant. The quantities we are interested at the end of the day must be gauge-invariant, but a numerical computation of these quantities, where $u_n(\\vk)$ are obtained for a set of discrete $\\vk$ values in the Brillouin zone, can be numerically unstable unless we choose a suitable gauge-fixing. We use the alternative method, proposed by [Hatsugai et al](https://arxiv.org/abs/cond-mat/0503172). \n",
    "\n",
    "\n",
    "\n",
    "## The Berry phase \n",
    "Given a curve $\\mathcal{C}$, we can define the corresponding Berry phase $\\gamma_{n,\\mathcal{C}}$ for the $n^\\text{th}$ band as the line integral $\\oint_\\mathcal{C} \\bconn_n$. If $\\mathcal{C}$ is a closed loop, then the corresponding Berry phase (modulo $2\\pi$) is gauge-invariant. Given a closed loop $\\vk(t)$, to compute the Berry phase numerically, we discretize it into $N$ equidistant points $\\vk_1, \\dots, \\vk_N, \\vk_{N+1} = \\vk_1$ so that \n",
    "\n",
    "$$ \n",
    "    \\e^{-\\i\\gamma_{n,\\mathcal{C}}} \n",
    "    = \\exp\\left\\{-\\i \\oint_\\mathcal{C} \\bconn_{n,i}(\\vk) dk^i \\right\\}\n",
    "    \\approx \\exp\\left\\{-\\i \\sum_{a=1}^N \\bconn_{n,i}(\\vk_a) \\Delta\\vk^i \\right\\}\n",
    "    = \\prod_{a=1}^N \\exp\\left\\{-\\i \\bconn_{n,i}(\\vk_a) \\Delta\\vk^i \\right\\}.\n",
    "$$ \n",
    "\n",
    "The individual terms in this product are _link variables_ \n",
    "\n",
    "$$ \n",
    "    \\begin{align}\n",
    "        V(\\vk_a, \\vk_{a+1}) \\equiv \\exp\\left\\{-\\i \\bconn_{n,i}(\\vk_a) \\Delta\\vk^i \\right\\} \n",
    "        & \\approx 1 - \\i \\bconn_{n,i}(\\vk_a) \\Delta\\vk^i  \\\\ \n",
    "        & = 1 + u_n^\\dg (\\vk_a) \\partial_i u_n(\\vk_a) \\Delta\\vk^i  \\\\ \n",
    "        & = u_n^\\dg (\\vk_a) \\left[ u_n(\\vk_a) + \\nabla u_n(\\vk_a) \\cdot \\Delta\\vk^i \\right]      \\\\ \n",
    "        & \\approx u_n^\\dg (\\vk_a) u_n(\\vk_a + \\Delta\\vk) \n",
    "        = u_n^\\dg(\\vk_a) u_n(\\vk_{a+1}). \n",
    "    \\end{align}\n",
    "$$ \n",
    "\n",
    "Thus, we can write the Berry phase as a product over the _link variables_ as $\\e^{-\\i \\gamma_{n,\\mathcal{C}}} = \\prod_{a=1}^N V(\\vk_a, \\vk_{a+1})$, which is exact as the number of grid points tend to infinity. One can get a more accurate result for a finite (and relatively small) grid by keeping only the phase part of the link variables, i.e., by setting \n",
    "\n",
    "$$ \n",
    "    \\gamma_{n,\\mathcal{C}} \n",
    "     = \\i\\ln \\left[ \\prod_{a=1}^N V(\\vk_a, \\vk_{a+1}) \\right],  \\qquad \n",
    "     V(\\vk_a, \\vk_{a+1}) \\equiv \\frac{u_n^\\dg(\\vk_a) u_n(\\vk_{a+1})}{|u_n^\\dg(\\vk_a) u_n(\\vk_{a+1})|}. \n",
    "$$ \n",
    "\n",
    "Note that in the definition above, the phases of each of $u_n(\\vk_a)$, computed independently, cancel out, so that we do not need to worry about choosing the phase of $u_n(\\vk)$ as a smooth function.   \n",
    "\n",
    "\n",
    "### Alternative: \n",
    "We can also write the expression for the Berry phase as \n",
    "\n",
    "$$ \n",
    "    \\gamma_{n,\\mathcal{C}} \n",
    "    = \\i \\ln\\left[ u_n^\\dg(\\vk_1) U_n(\\vk_2) \\dots U_n(\\vk_N) u_n(\\vk_1) \\right] \n",
    "    = \\i \\ln \\tr \\left\\{ \\prod_{a=1}^N  U_n(\\vk_a)\\right\\}, \n",
    "$$ \n",
    "\n",
    "where we have defined the $\\nuc\\times\\nuc$ matrix $U_n(\\vk) \\equiv u_n(\\vk) u_n^\\dg(\\vk)$, which is independent of the phase choice of $u_n(\\vk)$. The last step follows from inserting a resolution of identity   before the last term. Explicitly, using $1 = \\sum_{\\alpha=1}^\\nuc e_\\alpha e_\\alpha^\\dg$, where $e_\\alpha$ is a vector whose $\\alpha^\\text{th}$ component is 1 and all others are zero, we get \n",
    "\n",
    "$$ \n",
    "    \\sum_{\\alpha} u_n^\\dg(\\vk_1) \\left( \\prod_{a=2}^N U_n(\\vk_a) \\right) e_\\alpha e_\\alpha^\\dg u_n(\\vk_1) \n",
    "    = \\sum_{\\alpha} e_\\alpha^\\dg u_n(\\vk_1) u_n^\\dg(\\vk_1) \\left( \\prod_{a=2}^N U_n(\\vk_a) \\right) e_\\alpha \n",
    "    = \\sum_{\\alpha}  e_\\alpha^\\dg U(\\vk_1) \\left( \\prod_{a=2}^N U_n(\\vk_a) \\right)   e_\\alpha\n",
    "    = \\tr \\left\\{ \\prod_{a=1}^N U_n(\\vk_a) \\right\\}\n",
    "$$\n",
    "\n",
    "\n",
    "We thus arrive at an expression for the Berry phase as a product of manifestly gauge-invariant matrices. \n",
    "\n",
    "\n",
    "\n",
    "\n",
    "## The Chern number\n",
    "Given any closed two-dimensional closed surface $\\mathcal{S}$ (usually the Brillouin zone), the corresponding Chern number is defined as the surface integral $\\oint_\\mathcal{S} \\bcurv_n$. This can be thought of simply as the net flux of the Berry curvature across the Brillouin zone. Furthermore, Berry flux across a contractible surface can be written as the line integral of the Berry connection, and hence the Berry phase, along the boundary of this surface. \n",
    "\n",
    "We can use the definition of the Berry connection on the links to compute the Berry flux on individual plaquettes. Explicitly, consider the plaquette defined by the diagonally opposite points $(k_x, k_y)$ and $(k_x + \\Delta k_x, k_y + \\Delta k_y)$. The Berry flux across this plaquette is simply the net Berry phase acquired on on traversing the boundary of this surface, so that we can write the Berry phase as a product over the link variables as \n",
    "\n",
    "\\begin{align}\n",
    "    \\e^{-\\i\\Phi(k_x,k_y)} &= V((k_x,k_y), (k_x+\\Delta k_x,k_y)) \\times V((k_x+\\Delta k_x,k_y), (k_x+\\Delta k_x,k_y+\\Delta k_y)) \\\\ \n",
    "    & \\quad \\times V((k_x+\\Delta k_x,k_y+\\Delta k_y), (k_x,k_y+\\Delta k_y)) \\times V((k_x,k_y+\\Delta k_y), (k_x,k_y)). \n",
    "\\end{align}\n",
    "\n",
    "We thus decompose the 2d Brillouin zone into small plaquettes and numerically compute the flux for each plaquette using the approximation $V(\\vk, \\vk + \\Delta\\vk) \\approx u_n^\\dg(\\vk) u_n(\\vk+\\Delta\\vk)$, which we derived above. The Chern number is then given by $1/2\\pi$ times the total Berry flux across the Brillouin zone. \n"
   ]
  },
  {
   "cell_type": "code",
   "execution_count": null,
   "metadata": {
    "scrolled": false
   },
   "outputs": [],
   "source": [
    "# First, some housekeeping. Run this before anything else. \n",
    "\n",
    "# Import the relevant packages \n",
    "using LinearAlgebra, Plots\n",
    "\n",
    "# Define the Pauli matrices \n",
    "sig_x = [0 1;1 0];\n",
    "sig_y = [0 -im; im 0 ];\n",
    "sig_z = [1 0; 0 -1];"
   ]
  },
  {
   "cell_type": "markdown",
   "metadata": {},
   "source": [
    "# Computing the polarization / Wannier centers"
   ]
  },
  {
   "cell_type": "markdown",
   "metadata": {},
   "source": [
    "Complete the following function which takes as input a one-parameter function `Hbloch(k)`, which is periodic in k with period $2\\pi$, and computes $\\e^{\\i\\gamma}$ for a loop formed by k varying from 0 to $2\\pi$. \n",
    "\n",
    "Note that it is more convenient to compute $\\e^{\\i\\gamma}$ first, since computing $\\gamma$ requires taking a logarithm of a complex number, where one needs to be really careful about branch cuts."
   ]
  },
  {
   "cell_type": "code",
   "execution_count": null,
   "metadata": {},
   "outputs": [],
   "source": [
    "# Pass the Hamiltonian as a function of one lattice momentum k\n",
    "function BerryPhase(Hbloch, Nk, band_index=1)\n",
    "    kstep = 2*pi/Nk    \n",
    "    nuc = size(Hbloch(0.0))[1];     \n",
    "    \n",
    "    # Compute a table of eigenvectors u(ky)\n",
    "    ulist = im*zeros(Nk,nuc)    \n",
    "    for a in 1:Nk\n",
    "        k = -pi + a*kstep\n",
    "        ulist[a,:] = eigvecs(Hbloch(k))[:,band_index] \n",
    "    end\n",
    "    \n",
    "    # Compute the link variables link(ky) = u(ky)' u(ky+kstep) \n",
    "    link = im*zeros(Nk)\n",
    "    for a in 1:(Nk-1)\n",
    "        link[a] = ulist[a,:]' * ulist[a+1,:]\n",
    "    end \n",
    "    link[Nk] = ulist[Nk,:]' * ulist[1,:]\n",
    "    link = link ./ abs.(link)\n",
    "    \n",
    "    # Multiply the link variables to obtain the Berry phase \n",
    "    gamma = complex(1,0)\n",
    "    for a in 1:Nk    \n",
    "        gamma *= link[a]\n",
    "    end    \n",
    "    \n",
    "    return gamma\n",
    "end\n"
   ]
  },
  {
   "cell_type": "markdown",
   "metadata": {},
   "source": [
    "#### Computing the polarization \n",
    "\n",
    "You can use the following function to compute the polarization. The inbuild function ``rem2pi()`` returns an angle modulo $2\\pi$, with the result either in $[0,2\\pi]$ or in $[-\\pi,\\pi]$. Since we are primarily interested in polarization values close to 0 and 1/2, corresponding to 0 and $pi$ for the Berry phase, we need to move the branch cut away from these points. In the following fuction, the branch cut is moved to $\\theta$, so that the final result is in $[\\theta, \\theta+2\\pi]$. "
   ]
  },
  {
   "cell_type": "code",
   "execution_count": null,
   "metadata": {},
   "outputs": [],
   "source": [
    "# Compute the polarization, correctly taking the periodic behavior into account \n",
    "\n",
    "function Polarization(x, theta=-0.01*pi)        \n",
    "    gamma = rem2pi(-angle(x)-theta, RoundDown)+theta\n",
    "    return gamma/(2*pi)\n",
    "end"
   ]
  },
  {
   "cell_type": "markdown",
   "metadata": {},
   "source": [
    "### Example: The SSH model\n",
    "We first look at the SSH model with the Bloch Hamiltonian \n",
    "\n",
    "$$\\hlt_\\text{SSH}(k) = (m +  \\cos k) \\sigma_x + \\sin k \\, \\sigma_y.\n",
    "$$ \n",
    "\n",
    "\n",
    "Numerically compute and plot the polarization as a function of $m$ using the functions ``BerryPhase()``  and ``Polarization()`` constructed above. It might be convenient to first compute the polarization for individual values of $m$ and see if the result makes sense. "
   ]
  },
  {
   "cell_type": "code",
   "execution_count": null,
   "metadata": {
    "scrolled": false
   },
   "outputs": [],
   "source": [
    "H_ssh(k) = (m + cos(k)) * sig_x + sin(k) * sig_y\n",
    "\n",
    "Nk = 40   # Number of k-points to sample in the Brillouin zone\n",
    "Nm = 100  # Number of grid points for m\n",
    "\n",
    "m_min = 0.0\n",
    "m_max = 2.0\n",
    "mstep = (m_max-m_min)/Nm\n",
    "\n",
    "# Need to initialize m on the first run, since otherwise it is a local variable inside the loop and \n",
    "# hence inaccessible to BerryPhase(#). Can instead make it a parameter in H_ssh(#). \n",
    "m = 0.0 \n",
    "\n",
    "gammalist = zeros(Nm+1)*im\n",
    "for a in 1:(Nm+1)\n",
    "    m = m_min + (a-1)*mstep    \n",
    "    gammalist[a] = BerryPhase(H_ssh, Nk)\n",
    "end\n",
    "\n",
    "plot(m_min:mstep:m_max, Polarization.(gammalist), ylims=(-0.01,1), leg=false, xlab=\"m\", ylab=\"Polarization\")"
   ]
  },
  {
   "cell_type": "markdown",
   "metadata": {},
   "source": [
    "# Computing the Chern number\n"
   ]
  },
  {
   "cell_type": "markdown",
   "metadata": {},
   "source": [
    "Complete the following function which takes as input a two-parameter function ``Hbloch(kx,ky)`` and computes the Chern number over the Brillouin zone. "
   ]
  },
  {
   "cell_type": "code",
   "execution_count": null,
   "metadata": {},
   "outputs": [],
   "source": [
    "function ChernNumber(Hbloch, Nk, band_index=1)\n",
    "    \n",
    "    kstep = 2*pi/Nk\n",
    "    nuc = size(Hbloch(0,0))[1]; \n",
    "    \n",
    "    # Compute a table of eigenvectors u(kx,ky)\n",
    "    ulist = im*zeros(Nk,Nk,nuc)\n",
    "    for a in 1:Nk\n",
    "        kx = -pi + a*kstep\n",
    "        for b in 1:Nk\n",
    "            ky = -pi + b*kstep\n",
    "            ulist[a,b,:] = eigvecs(Hbloch(kx,ky))[:,band_index] \n",
    "        end\n",
    "    end\n",
    "    \n",
    "    # Define a function to compute V(k1,k2) to have a cleaner expression for e^(iΦ)\n",
    "    link(a1, b1, a2, b2) = ulist[mod(a1, 1:Nk), mod(b1, 1:Nk),:]' * ulist[mod(a2, 1:Nk), mod(b2, 1:Nk),:]\n",
    "    \n",
    "    # Compute a table of fluxes for the plaquettes \n",
    "    berryflux = im*zeros(Nk,Nk)\n",
    "    for a in 1:Nk\n",
    "        for b in 1:Nk            \n",
    "            tmp = link(a,b,a+1,b) * link(a+1,b,a+1,b+1) * link(a+1,b+1,a,b+1) * link(a,b+1,a,b) # (≡ e^(iΦ))\n",
    "            berryflux[a,b] = log(tmp/abs(tmp))            \n",
    "        end\n",
    "    end\n",
    "    \n",
    "    # Compute the Chern number as the total Berry flux \n",
    "    # (We take the real part to avoid some spurious imaginary components)\n",
    "    Chern = -real(sum(berryflux) / (2*pi*im)) \n",
    "        \n",
    "    return Chern\n",
    "end\n"
   ]
  },
  {
   "cell_type": "markdown",
   "metadata": {},
   "source": [
    "### Example I: The Chern insulator\n",
    "\n",
    "The 2d lattice Dirac model is described by the Bloch Hamiltonian \n",
    "\n",
    "$$ \\hlt_\\text{CI}(k) = \\sin k_x \\sigma^x + \\sin k_y \\sigma_y +  (2 - m - \\cos k_x - \\cos k_y) \\sigma_z.  \n",
    "$$ \n",
    "\n",
    "This model is gapless for $m=0,2,4$ and exhibits a _Chern insulator_ phase for $0<m<4$ (except at $m=2$). Compute and plot the Chern number of the filled (lower) band as a function of $m$. You can first compute the Chern number for individual values of $m$ and see if the result makes sense."
   ]
  },
  {
   "cell_type": "code",
   "execution_count": null,
   "metadata": {},
   "outputs": [],
   "source": [
    "H_ci(kx,ky) = sin(kx)*sig_x + sin(ky)*sig_y + (2-m-cos(kx)-cos(ky))*sig_z\n",
    "\n",
    "Nk = 20    # Even a 20x20 grid over the BZ is sufficient! \n",
    "Nm = 160\n",
    "\n",
    "m_min = -2.0\n",
    "m_max = 6.0\n",
    "mstep = (m_max-m_min)/Nm\n",
    "\n",
    "# Need to initialize m on the first run, since otherwise it is a local variable inside the loop and \n",
    "# hence inaccessible to BerryPhase(#). Can instead make it a parameter in H_ssh(#). \n",
    "m = 0.0 \n",
    "\n",
    "\n",
    "Clist = zeros(Nm+1)\n",
    "for a in 1:(Nm+1)\n",
    "    m = m_min + (a-1)*mstep    \n",
    "    Clist[a] = ChernNumber(H_ci, Nk)\n",
    "end\n",
    "\n",
    "plot(m_min:mstep:m_max, Clist, ylims=(-1.1,1.1), leg=false, xlab=\"m\", ylab=\"Chern number\")"
   ]
  },
  {
   "cell_type": "markdown",
   "metadata": {},
   "source": [
    "### II: The Hofstadter model\n",
    "\n",
    "The Hofstadter model is a tight-binding model of electrons hopping in a background magnetic field on a 2d square lattice, i.e., a discrete version of the integer quantum Hall effect. In the real space, the Hamiltonian can be written as \n",
    "\n",
    "$$  \\hlt = \\sum_{nx,ny} \\left[ \\cd_{nx+1,ny} \\c_{nx,ny} + \\e^{2 \\pi \\i \\phi n_x} \\cd_{nx,ny+1} \\c_{nx,ny} + \\text{H.c.} \\right],\n",
    "$$ \n",
    "\n",
    "where $\\phi = p/q, \\, p,q\\in\\mathbb{Z}^+$ is the flux per plaquette in the units of the flux quantum $\\Phi_0 = h/e$. This Hamiltonian is periodic in $x$ and $y$ with periods $q$ and 1, respectively, so that we get the $q\\times q$ Bloch Hamiltonian \n",
    "\n",
    "$$  \\hlt_B(k_x,k_y) = \n",
    "    \\begin{pmatrix}\n",
    "        \\cos\\left( k_y - 2\\pi\\phi \\right) & 1 & 0 & \\dots & \\e^{\\i k_x } \\\\ \n",
    "        1 & \\cos\\left( k_y - 4\\pi\\phi \\right) & 1 & \\dots & 0 \\\\ \n",
    "        0 & 1 & \\cos\\left( k_y - 6\\pi\\phi \\right) & \\dots & 0 \\\\ \n",
    "        \\vdots & \\vdots & \\vdots & \\ddots & \\vdots \\\\ \n",
    "        \\e^{-\\i k_x } & 0 & 0 & \\dots & \\cos k_y\n",
    "    \\end{pmatrix}, \n",
    "$$ \n",
    "\n",
    "where for the entry at the lower right corner is simply $\\cos(k_y - 2\\pi q \\phi) = \\cos(k_y - 2\\pi p) = \\cos k_y$. Thus, the number of bands depend on the denominator of the flux, and are extremely sensitive to small changes in the magnetic field, which leads to the fractal structure of the _Hofstadter butterfly_. This system turns out to be gapless whenever $q$ is even, so that the topologically interesting cases are those with $q$ odd. \n",
    "\n",
    "Use the function ``Hofstadter()`` defined below to construct the Bloch Hamiltonian for arbitrary fluxes $\\phi = p/q$. Compute the Chern number for _all the bands_ for various fluxes corresponding to $q = 3,5$ and $7$. "
   ]
  },
  {
   "cell_type": "code",
   "execution_count": null,
   "metadata": {},
   "outputs": [],
   "source": [
    "# Function to construct the Bloch Hamiltonian for the Hofstadter model \n",
    "\n",
    "function Hofstadter(kx,ky,p,q)\n",
    "    H = im*zeros(q,q)\n",
    "    for n in 1:(q-1)\n",
    "        H[n,n] = cos(ky - 2*pi*n*p/q)\n",
    "        H[n,n+1] = 1\n",
    "        H[n+1,n] = 1\n",
    "    end\n",
    "    \n",
    "    H[q,q] = cos(ky)\n",
    "    H[1,q] = exp(im*kx)\n",
    "    H[q,1] = exp(-im*kx)\n",
    "    return H \n",
    "end"
   ]
  },
  {
   "cell_type": "code",
   "execution_count": null,
   "metadata": {
    "scrolled": true
   },
   "outputs": [],
   "source": [
    "p = 1\n",
    "q = 5\n",
    "H_hof(kx,ky) = Hofstadter(kx,ky,p,q)\n",
    "\n",
    "Nk = 40   \n",
    "Clist = zeros(q)\n",
    "for band_index in 1:q \n",
    "    Clist[band_index] = round(ChernNumber(H_hof, Nk, band_index))\n",
    "end\n",
    "\n",
    "display(Clist)"
   ]
  },
  {
   "cell_type": "markdown",
   "metadata": {},
   "source": [
    "# The bulk-boundary correspondence in 2d\n",
    "\n",
    "The bulk-boundary correspondence implies that for any gapped 2d system, if the filled band(s) carry a nonzero Chern number, then such a system with open boundary conditions will have modes in the bulk gap, with the corresponding wavefunctions localized at the boundary. \n",
    "\n",
    "We now compare the Chern number obtained so far with the edge states obtained from exact diagonalization of these systems on a cylinder. Thus, starting from the Bloch Hamiltonian, we impose open boundary conditions along one of the directions ($x$, say), so that the Hamiltonian can now be described by a hopping matrix $J(k_y)$ and an on-site matrix $M(k_y)$. Given these matrices, we can construct the real-space Hamiltonian and hence compute the spectrum for a given $k_y$. To begin with, copy your function ``ConstructH1d(J,M,N)`` from the last weeks' tutorial (or from the solutions). "
   ]
  },
  {
   "cell_type": "code",
   "execution_count": null,
   "metadata": {},
   "outputs": [],
   "source": [
    "# Function to construct the real-space Hamiltonian for a (quasi-)1D tight-binding model\n",
    "function constructH1d(J,M,N,pbc=0)\n",
    "    \n",
    "    Ndof = size(J)[1]       # Number of degrees of freedom in a unit cell\n",
    "    sizeH = N*Ndof\n",
    "    \n",
    "    H = zeros(sizeH, sizeH)*im; # Initialize H as a set of (complex)zeros\n",
    "        \n",
    "    # Loop over the first N-1 unit cells and assign the on-site matrix and hopping matrices between n and n+1\n",
    "    for n in 1:(N-1)\n",
    "        H[(n-1)*Ndof+1:n*Ndof, (n-1)*Ndof+1:n*Ndof] = M\n",
    "        H[n*Ndof+1:(n+1)*Ndof, (n-1)*Ndof+1:n*Ndof] = J\n",
    "        H[(n-1)*Ndof+1:n*Ndof, n*Ndof+1:(n+1)*Ndof] = J'\n",
    "    end\n",
    "    \n",
    "    # The previous loop does not assign the on-site matrix to the last unit cell (n=N), \n",
    "    # so do that separately. \n",
    "    H[(N-1)*Ndof+1:N*Ndof, (N-1)*Ndof+1:N*Ndof] = M\n",
    "    \n",
    "    # For periodic boundary conditions, site N+1 is equivalent to site 1, \n",
    "    if pbc==1\n",
    "        H[1:Ndof, (N-1)*Ndof+1:N*Ndof] = J\n",
    "        H[(N-1)*Ndof+1:N*Ndof, 1:Ndof] = J'\n",
    "    end\n",
    "    \n",
    "    return H\n",
    "\n",
    "end"
   ]
  },
  {
   "cell_type": "markdown",
   "metadata": {},
   "source": [
    "### I. Exact diagonalization for the Chern insulator on a cylinder\n",
    "\n",
    "We can inverse Fourier transform the Chern insulator Hamiltonian along $x$ to identify \n",
    "\n",
    "$$ J(k_y) = -\\frac12 (\\i\\sigma^x + \\sigma^z), \\qquad \n",
    "    M(k_y) = \\sin k_y \\sigma_y +  (2 - m - \\cos k_y) \\sigma_z.  \n",
    "$$ \n",
    "\n",
    "Compute and plot the real-space spectrum for this system as a function of $k_y$ with open boundary conditions along $x$. "
   ]
  },
  {
   "cell_type": "code",
   "execution_count": null,
   "metadata": {},
   "outputs": [],
   "source": [
    "m = 0.5\n",
    "Nx = 40\n",
    "Nky = 100 \n",
    "kystep = 2*pi/Nky\n",
    "\n",
    "# J does not depend on ky, so can keep this outside the loop.     \n",
    "J = -(im*sig_x + sig_z)/2\n",
    "\n",
    "Elist = zeros(Nky, 2*Nx)\n",
    "for n in 1:Nky\n",
    "    ky = -pi + kystep*n\n",
    "    M = sin(ky) * sig_y + (2 - m - cos(ky))*sig_z\n",
    "    \n",
    "    H = constructH1d(J, M, Nx)\n",
    "    Elist[n,:] = eigvals(H)\n",
    "end\n",
    "\n",
    "plot(-pi:kystep:pi, Elist, leg=false, xlab=\"ky\", ylab=\"E\")"
   ]
  },
  {
   "cell_type": "markdown",
   "metadata": {},
   "source": [
    "### II. Exact diagonalization for the Hofstadter model on a cylinder\n",
    "Use the following function to construct the $J$ and $M$ matrices for the Hofstadter model for arbitrary $\\phi = p/q$. Compute and plot the real-space spectrum for this system as a function of $k_y$ with open boundary conditions along $x$. "
   ]
  },
  {
   "cell_type": "code",
   "execution_count": null,
   "metadata": {},
   "outputs": [],
   "source": [
    "# Function to compute the hopping and on-site matrices for the Hofstadter model \n",
    "function HofstadterJM(ky,p,q)\n",
    "    J = im*zeros(q,q)\n",
    "    M = im*zeros(q,q)\n",
    "    J[1,q] = 1\n",
    "    \n",
    "    for n in 1:(q-1)\n",
    "        M[n,n] = cos(ky - 2*pi*n*p/q)\n",
    "        M[n,n+1] = 1\n",
    "        M[n+1,n] = 1\n",
    "    end    \n",
    "    M[q,q] = cos(ky)\n",
    "    \n",
    "    return J,M\n",
    "end"
   ]
  },
  {
   "cell_type": "code",
   "execution_count": null,
   "metadata": {},
   "outputs": [],
   "source": [
    "p = 1\n",
    "q = 5\n",
    "Nx = 80 \n",
    "\n",
    "Nky = 200  \n",
    "kystep = 2*pi/Nky\n",
    "Elist = zeros(Nky, q*Nx)\n",
    "\n",
    "for n in 1:Nky\n",
    "    ky = -pi + n*kystep\n",
    "    J,M = HofstadterJM(ky,p,q)\n",
    "    H = constructH1d(J,M,Nx)\n",
    "    Elist[n,:] = eigvals(H)\n",
    "end\n",
    "\n",
    "plot(-pi:kystep:pi, Elist, leg=false, size=(600,900),\n",
    "    xlab=\"ky\", ylab=\"E\", title=\"The Hofstadter model with OBC for \" * string(Nx) * \" unit cells.\" )"
   ]
  }
 ],
 "metadata": {
  "kernelspec": {
   "display_name": "Julia 1.11.1",
   "language": "julia",
   "name": "julia-1.11"
  },
  "language_info": {
   "file_extension": ".jl",
   "mimetype": "application/julia",
   "name": "julia",
   "version": "1.11.1"
  }
 },
 "nbformat": 4,
 "nbformat_minor": 4
}
