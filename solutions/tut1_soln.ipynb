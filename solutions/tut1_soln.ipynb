{
 "cells": [
  {
   "cell_type": "markdown",
   "metadata": {},
   "source": [
    "# TUTORIAL #1\n",
    "In this tutorial, we shall construct the real space Hamiltonian for (quasi-)1d systems and study their spectra and features of the corresponding wavefunctions numerically.\n",
    "$$ \n",
    "\\gdef\\e{ {\\mathrm{e}} }\n",
    "\\gdef\\i{ {\\mathrm{i}} }\n",
    "\\gdef\\dg{{\\dagger}} \n",
    "\\gdef\\pdg{{\\phantom{\\dagger}}} \n",
    "\\gdef\\hlt{\\mathcal{H}}\n",
    "\\gdef\\nuc{\\mathfrak{n}}\n",
    "\\gdef\\c{c^\\pdg}\n",
    "\\gdef\\cd{c^\\dg}\n",
    "\\gdef\\bc{\\mathbf{c}}\n",
    "\\gdef\\vc{\\mathbf{c}^\\pdg}\n",
    "\\gdef\\vcd{\\mathbf{c}^\\dg}\n",
    "\\gdef\\ve{\\varepsilon}\n",
    "\\gdef\\vk{\\mathbf{k}}\n",
    "\\gdef\\cmplx{\\mathbb{C}}\n",
    "\\gdef\\ket#1{\\left\\lvert #1 \\right\\rangle} \n",
    "\\gdef\\bconn{\\mathcal{A}}\n",
    "\\gdef\\bcurv{\\mathcal{F}}\n",
    "\\gdef\\tr{\\mathrm{tr}}\n",
    "$$ "
   ]
  },
  {
   "cell_type": "markdown",
   "metadata": {},
   "source": [
    "# Exact diagonalization: Schrödinger equation as a linear-algebra problem\n",
    "A standard tool of the trade for the study of tight-binding models is the exact diagonalization of real-space Hamiltonians. A single particle tight-binding Hamiltonian can most generally be written as \n",
    "\n",
    "$$\\hlt = \\sum_{I,J} H_{IJ} c^\\dagger_I \\c_J,\n",
    "$$\n",
    "\n",
    "where $\\hlt$ is simply a complex-valued matrix, which we can diagonalize numerically. An arbitrary single-particle state can be written as $\\ket\\psi = \\sum_I \\psi_I \\cd_I \\ket\\Omega$, where $\\ket\\Omega$ is the vacuum state and $\\psi_I\\in\\cmplx$ is the wavefunction on site $i$. \n",
    "The corresponding Schrödinger equation $(\\hlt - \\ve )\\ket\\psi = 0$ then becomes \n",
    "\n",
    "$$\\begin{align}\n",
    "    0 &= (\\hlt - \\ve) \\sum_I \\psi_I \\cd_I \\ket\\Omega \\\\ \n",
    "    &= \\sum_I \\psi_I \\left[ \\sum_{J,K} \\left( H_{JK} \\cd_J (\\delta_{KI} - \\cd_I \\c_K \\right)  - \\ve \\cd_I \\right] \\ket\\Omega \\\\ \n",
    "    &= \\sum_I \\psi_I \\left[ \\sum_{J} H_{JI} \\cd_J - \\ve \\cd_I \\right] \\ket\\Omega \\\\ \n",
    "    &= \\sum_I  \\left[ \\sum_{J} H_{IJ} \\psi_J - \\ve \\psi_I \\right] \\cd_I \\ket\\Omega\n",
    "    \\end{align}\n",
    "$$ \n",
    "\n",
    "Since $\\cd_I\\ket\\Omega$'s are independent, we simply get $H \\vec{\\psi} = \\ve \\vec\\psi$ for the vector $\\vec{\\psi} = (\\psi_1, \\dots \\psi_N)^T$. Solving this eigenvalue problem, we compute the eigenvalues as well as the  probability of occupation of $\\ket{I}$ in the corresponding eigenvector. \n",
    "\n",
    "\n",
    "## Tight-binding models \n",
    "The most general 1d tight-binding model can be written as \n",
    "\n",
    "$$     \n",
    "    \\begin{align}\n",
    "      \\hlt &= \\sum_{n=0}^{N-1} \\sum_{\\alpha,\\beta = 1}^{\\nuc} \\left[ J_{\\alpha\\beta} \\cd_{n+1,\\alpha} \\c_{n,\\beta} + M_{\\alpha\\beta} \\cd_{n,\\alpha} \\c_{n,\\beta} + \\big( J^\\dg \\big)_{\\alpha\\beta} \\cd_{n,\\alpha} \\c_{n+1,\\beta} \\right], \\nonumber \\\\ \n",
    "      &= \\sum_{n=0}^{N-1} \\left[ \\vcd_{n+1} J \\vc_{n} + \\vcd_{n} M \\vc_{n} +  \\vcd_{n} J^\\dg \\vc_{n+1}  \\right]\n",
    "    \\end{align}\n",
    "$$ \n",
    "\n",
    "as we saw in Lecture 1. Any 1d hopping model with a finite-range hopping can be recast in this form by choosing a large-enough \"unit cell\", which may be larger than the unit cell for the lattice. \n",
    "\n",
    "\n",
    "\n",
    "### Identifying the hopping($J$) and on-site($M$) matrices\n",
    "For periodic boundary condition (PBC), this tight-binding model can be block-diagonalized by Fourier transformations. Using $\\vc_n = \\sum_k \\bc(k) \\e^{-\\i kx}$, we get the Bloch Hamiltonian as \n",
    "\n",
    "$$ \n",
    "    \\hlt_B(k) = J \\e^{ik} + M + J^\\dg \\e^{-ik}.\n",
    "$$ \n",
    "\n",
    "Since you will mostly encounter tight-binding models as Bloch Hamiltonians, you can simply expand it in exponentials and use this equation to identify the $J$ and $M$ matrices. \n",
    "\n",
    "\n",
    "\n",
    "### The real space Hamiltonian\n",
    "To get the corresponding Hamiltonian matrix $H$ (the \"first quantized\" Hamiltonian),  for a system with open boundary condition (OBC) is a $N \\times N$ block matrix, explicitly given by \n",
    "\n",
    "$$     \n",
    "  H = \\begin{pmatrix}\n",
    "    M & J^\\dg & 0 & \\dots & 0 & 0 \\\\\n",
    "    J & M & J^\\dg & \\dots & 0 & 0 \\\\\n",
    "    0 & J & M & \\dots & 0 & 0 \\\\\n",
    "    \\vdots & \\vdots & \\vdots & \\ddots & \\vdots & \\vdots \\\\\n",
    "    0 & 0 & 0 & \\dots & M & J^\\dg \\\\\n",
    "    t & 0 & 0 & \\dots & J & M\n",
    "  \\end{pmatrix}.\n",
    "$$\n",
    "\n",
    "Note that as block matrices, we have set $H_{n+1, n} = J$, with $n = 0, \\dots N-2$ . To impose periodic boundary conditions(PBC), we identify site $N$ with site $0$, so that we must set $H_{0, N-1} = J$ and the corresponding Hermitian conjugate. \n",
    "\n",
    "\n",
    "\n",
    "\n",
    "# The boundary modes\n",
    "\n",
    "One of the most remarkable features of topological phases is the existence of topologically protected boundary modes whenever we take a system with OBC, which we very briefly discussed it in lecture 1. We shall discuss them in more detail in a later lecture. Since the boundary modes occur for OBC and there are no straightforward analytical techniques for open systems, boundary modes are usually studied using numerical exact diagonalization. \n",
    "\n",
    "## The Inverse participation ratio (IPR)\n",
    "\n",
    "A rather useful quantity to study the localization behavior of wavefunction is its IPR, which is defined for a normalized wavefunction as \n",
    "\n",
    "$$ \n",
    "    \\mathcal{I} = \\left( \\sum_n |\\psi_n|^4 \\right)^{-1}. \n",
    "$$ \n",
    "\n",
    "To get an intuitive sense of what this measures, consider two extreme cases. Given a system with $N$ sites,  \n",
    "\n",
    " - if $\\psi$ is perfectly localized at site $\\ell$, so that $|\\psi_n| = 0 \\, \\forall \\, n \\neq \\ell$, then we must have $\\mathcal{I} = 1$. \n",
    " - if $\\psi$ is equally delocalized among the $N$ sites, normalization implies that $|\\psi_n| = N^{-1/2} \\, \\forall \\, n$, so that $\\mathcal{I} = N$. \n",
    "\n",
    "Thus, $\\mathcal{I} \\in [1,N]$. Roughly speaking, IPR measures the number of sites over which a given state is delocalized. "
   ]
  },
  {
   "cell_type": "code",
   "execution_count": null,
   "metadata": {
    "scrolled": false
   },
   "outputs": [],
   "source": [
    "# First, some housekeeping. Run this before anything else. \n",
    "\n",
    "# Import the relevant packages \n",
    "using LinearAlgebra, Plots\n",
    "\n",
    "# Define Pauli matrices \n",
    "sig_x = [0 1;1 0];\n",
    "sig_y = [0 -im; im 0 ];\n",
    "sig_z = [1 0; 0 -1];"
   ]
  },
  {
   "cell_type": "markdown",
   "metadata": {},
   "source": [
    "### I. Constructing the real space Hamitonian\n",
    "Write a function \n",
    "\n",
    "     ConstructHlt1D(J,M,N,pbc) \n",
    "\n",
    "that takes as input \n",
    " - The $n \\times n$ matrices $J$ and $M$ describing the tight-binding model,\n",
    " - Number of sites $N$, and\n",
    " - A parameter pbc specifying periodic/open boundary conditions,\n",
    " \n",
    "and returns the corresponding $nN \\times nN$ real-space Hamiltonian $H$. "
   ]
  },
  {
   "cell_type": "markdown",
   "metadata": {},
   "source": [
    "### Solution\n",
    "\n",
    "Note that as block matrices, we need to set:\n",
    "\n",
    "      H[n,n] = M, H[n+1, n] = J, H[n,n+1] = J'\n",
    "      \n",
    "where J' denotes $J^\\dagger$ in Julia. \n",
    "     "
   ]
  },
  {
   "cell_type": "code",
   "execution_count": null,
   "metadata": {
    "scrolled": false
   },
   "outputs": [],
   "source": [
    "# Function to construct the real-space Hamiltonian for a (quasi-)1D tight-binding model\n",
    "function constructH1d(J,M,N,pbc=0)\n",
    "    \n",
    "    Ndof = size(J)[1]       # Number of degrees of freedom in a unit cell\n",
    "    sizeH = N*Ndof\n",
    "    \n",
    "    H = zeros(sizeH, sizeH)*im; # Initialize H as a set of (complex)zeros\n",
    "        \n",
    "    # Loop over the first N-1 unit cells, so that unit cell #n has a neighbor to the right, indexed by n+1\n",
    "    # Assign the on-site matrix and hopping matrices between n and n+1\n",
    "    for n in 1:(N-1)\n",
    "        H[(n-1)*Ndof+1:n*Ndof, (n-1)*Ndof+1:n*Ndof] = M\n",
    "        H[n*Ndof+1:(n+1)*Ndof, (n-1)*Ndof+1:n*Ndof] = J\n",
    "        H[(n-1)*Ndof+1:n*Ndof, n*Ndof+1:(n+1)*Ndof] = J'\n",
    "    end\n",
    "    \n",
    "    # The previous loop does not assign the on-site matrix to the last unit cell (n=N), \n",
    "    # so do that separately. \n",
    "    H[(N-1)*Ndof+1:N*Ndof, (N-1)*Ndof+1:N*Ndof] = M\n",
    "    \n",
    "    # For periodic boundary conditions, site N+1 is equivalent to site 1, \n",
    "    # so that we can simply copy down the assignments from the loop above and set n = Nsites, n+1 = 1. \n",
    "    # As block matrices, we are setting H[1,n] = J, H[n,1] = J'\n",
    "    if pbc==1\n",
    "        H[1:Ndof, (N-1)*Ndof+1:N*Ndof] = J\n",
    "        H[(N-1)*Ndof+1:N*Ndof, 1:Ndof] = J'\n",
    "    end\n",
    "    \n",
    "    return H\n",
    "\n",
    "end"
   ]
  },
  {
   "cell_type": "code",
   "execution_count": null,
   "metadata": {
    "scrolled": false
   },
   "outputs": [],
   "source": [
    "# An alternative, more compact function to construct the real space Hamiltonian using the Kronecker products\n",
    "function constructH1dAlt(J,M,N,pbc=0)\n",
    "        \n",
    "    Diag = Diagonal(ones(N))\n",
    "    \n",
    "    # Define a matrix containing 1 wherever we want to put a J.\n",
    "    Ldiag = diagm(1 => ones(N-1))    \n",
    "    Ldiag[1,N] = pbc \n",
    "    \n",
    "    # The positions of J' are simply transposed versions of those for J.\n",
    "    Udiag = Ldiag'    \n",
    "    \n",
    "    return kron(Diag,M) + kron(Ldiag,J) + kron(Udiag,J')\n",
    "end"
   ]
  },
  {
   "cell_type": "markdown",
   "metadata": {},
   "source": [
    "# The SSH model\n",
    "In Lecture 1, we introduced the one-dimensional Su-Schrieffer-Heeger model and analytically showed that it exhibits a symmetry-protected topological phase. We now analyze this model numerically. \n",
    "\n",
    "### I. The Bloch Hamiltonian\n",
    "The SSH model is essentially a 1d chain with alternating hoppings $t_1$ and $t_2$. Since the eigenstates depends on a single parameter $t_2/t_1$, we set $t_1 = m>0$ and $t_2 = 1$ in the following. Thus, we have the Bloch Hamiltonian \n",
    "\n",
    "$$ \\hlt_B(k) = (m +  \\cos k) \\sigma_x + \\sin k \\, \\sigma_y.\n",
    "$$ \n",
    "\n",
    "Given this information, numerically compute and plot the eigenvalues of the Bloch Hamiltonian as a function of $m$. Identify the two gapped phases as well we the $k$ for which the gap closes. "
   ]
  },
  {
   "cell_type": "code",
   "execution_count": null,
   "metadata": {
    "scrolled": false
   },
   "outputs": [],
   "source": [
    "m = 0.5\n",
    "\n",
    "Nk = 100   # Number of k-points to sample in the Brillouin zone\n",
    "kstep = 2*pi/Nk\n",
    "Elist = zeros(Nk, 2)   \n",
    "\n",
    "\n",
    "for n in 1:Nk\n",
    "    k = -pi + n*kstep\n",
    "    Hbloch = (m + cos(k)) * sig_x + sin(k) * sig_y \n",
    "    Elist[n,:] = eigvals(Hbloch)\n",
    "end\n",
    "\n",
    "plot(-pi:kstep:pi, Elist, \n",
    "        lw=3, leg=false, axes=false, frame=true, \n",
    "        xlab=\"k\", ylab=\"E\", title = \"SSH model with PBC and m = \"*string(m)  \n",
    "    ) "
   ]
  },
  {
   "cell_type": "markdown",
   "metadata": {},
   "source": [
    "This model exhibits two gapped phases with a gap-closing at $m=1$. Try out various values of $m$ above to see how the gap changes."
   ]
  },
  {
   "cell_type": "markdown",
   "metadata": {},
   "source": [
    "### II: The real space Hamiltonian\n",
    "\n",
    "1. Identify the $J$ and $M$ matrices for the SSH model.   \n",
    "2. Construct the corresponding real space Hamiltonians $H_{PBC}$ and $H_{OBC}$ using the ConstructHlt1D() function defined above. (You can take the system size to be 20 to 100 unit cell.)\n",
    "3. Diagonalize $H_{PBC}$ with PBC and plot its spectrum as a function of $m$. How does this compare with the phase diagram obtained using Bloch Hamiltonians.   \n",
    "4. Next, diagonalize $H_{OBC}$ and again plot its spectrum as a function of $m$. How is this different from the case with PBC? "
   ]
  },
  {
   "cell_type": "markdown",
   "metadata": {},
   "source": [
    "We can identify the $J$ and $M$ matrices by simply expanding the Bloch Hamiltonian in complex exponentials as \n",
    "\n",
    "$$\\hlt_B = (m +  \\cos k) \\sigma_x + \\sin k \\, \\sigma_y \n",
    "    = \\frac12 (\\sigma_x - \\i \\sigma_y) \\e^{\\i k_x} + m \\sigma_x + \\frac12 (\\sigma_x + \\i \\sigma_y) \\e^{\\i k_x} \n",
    "$$\n",
    "\n",
    "and extracting the coefficients of $\\e^{\\i k}$ and 1 to get \n",
    "\n",
    "$$  J = \\frac12 (\\sigma_x - \\i \\sigma_y), \\qquad \n",
    "    M = m \\sigma_x\n",
    "$$"
   ]
  },
  {
   "cell_type": "code",
   "execution_count": null,
   "metadata": {
    "scrolled": false
   },
   "outputs": [],
   "source": [
    "N = 80   # Number of unit cells\n",
    "Nm = 100  # Number of values of m to sample \n",
    "m_min = 0\n",
    "m_max = 2\n",
    "\n",
    "# Need to divide Nm-1 here instead of Nm to avoid a off-by-one error, \n",
    "# m varies from m_min to m_max, both endpoints inclusive, in steps of 2/Nstep\n",
    "mstep = (m_max-m_min)/(Nm-1)\n",
    "\n",
    "# Initialize variables to store the eigenvalues of the Hamiltonian\n",
    "Eobc = zeros(Nm, 2*N)\n",
    "Epbc = zeros(Nm, 2*N)\n",
    "\n",
    "# J does not depend on m, so can keep this outside the loop.     \n",
    "J = (sig_x - im*sig_y)/2\n",
    "\n",
    "for i in 1:Nm\n",
    "    m = m_min + mstep*(i-1)\n",
    "    M = m*sig_x\n",
    "\n",
    "    Hpbc = constructH1d(J, M, N,1)\n",
    "    Epbc[i,:] = eigvals(Hpbc)\n",
    "    \n",
    "    Hobc = constructH1d(J, M, N,0)\n",
    "    Eobc[i,:] = eigvals(Hobc)\n",
    "end\n",
    "\n",
    "display(plot(m_min:mstep:m_max, Epbc, leg=false, xlab=\"m\", ylab=\"E\", title=\"SSH model with PBC for \" * string(N) * \" unit cells.\"))\n",
    "display(plot(m_min:mstep:m_max, Eobc, leg=false, xlab=\"m\", ylab=\"E\", title=\"SSH model with OBC for \" * string(N) * \" unit cells.\" )) "
   ]
  },
  {
   "cell_type": "markdown",
   "metadata": {},
   "source": [
    "Note the existence of a zero mode for $m \\in (0,1)$ for the system with OBC. These modes are localized on the edges, as we shall see shortly, and are indicative of the topological phase owing to the \"bulk-boundary correspondence\", which dictates that there must be gapless modes localized at a boundary between two topologically distinct gapped phases. For an open system, we can think of the region outside the system as vaccum, a \"trivial\" phase, so that whenever the system is in a topological phase, there are modes localized at the boundary which cannot be removed by locally changing the system at the boundary. "
   ]
  },
  {
   "cell_type": "markdown",
   "metadata": {},
   "source": [
    "### III. Wavefunctions\n",
    "\n",
    "1. Compute the eigenvectors of $H_{PBC}$ for some fixed choice of $m$. Plot the probability density $|\\psi_n|^2$ as a function of $n$, and compare this to what you would expect to get from the Bloch Hamiltonian. What do the states look like \n",
    "  - At the edge of a band?\n",
    "  - Deep inside the band? \n",
    "  \n",
    "  \n",
    "2. Compute the eigenvectors of $H_{PBC}$ for some fixed choice of $m$. How do the eigenvectors change? \n",
    "\n",
    "\n",
    "3. Finally, choose a value of $m$ in the topological regime and plot the wavefunction for the zero mode. Where is it localized? How does the localization length change as a function of $m$? "
   ]
  },
  {
   "cell_type": "code",
   "execution_count": null,
   "metadata": {
    "scrolled": false
   },
   "outputs": [],
   "source": [
    "m = 0.5\n",
    "N = 100 \n",
    "\n",
    "J = (sig_x - im*sig_y)/2\n",
    "M = m*sig_x + 1E-4*sig_z\n",
    "# We add a small term proportional to sigma_z here to break the degeneracy of the two zero modes. \n",
    "# In absence of this term, eigvecs() would return the two states, one localized at either end of the system, \n",
    "# in some arbitrary basis, where it seems to be delocalized at both ends. \n",
    "\n",
    "pbc = 0 \n",
    "Hobc = constructH1d(J, M, N, pbc); \n",
    "\n",
    "# Compute all the eigenstates \n",
    "Elist = eigvals(Hobc)\n",
    "ulist = eigvecs(Hobc)';\n",
    "\n",
    "# Since the system has 2N eigenstates and the zero modes are at the center of \n",
    "# the spectrum, we need to set ind = N or ind = N+1 for localized states\n",
    "# All other states are delocalized over the entire system. \n",
    "ind = N\n",
    "\n",
    "# Plot the absolute value of the wavefunction of the one of the zero modes and print the corresponding energy.\n",
    "println(\"E = \",round(Elist[ind],digits=3)) \n",
    "plot(1:2*N, abs.(ulist[ind,:]), xlab=\"m\", ylab=\"E\", marker=:circle, leg=false)\n"
   ]
  },
  {
   "cell_type": "markdown",
   "metadata": {},
   "source": [
    "Note that the delocalization length of the edge modes is inversely proportional to the gap. For $m$ close to the gap-closing point ($m = 0.95$, say), we need to go to fairly large systems ($N>400$) to see these modes localized at the boundary. "
   ]
  },
  {
   "cell_type": "markdown",
   "metadata": {},
   "source": [
    "### IV.  End termination\n",
    "So far, we have looked at system with OBC containing an integer number of unit cells, which terminates at site A on the left and site B on the right. However, we are certainly allowed to chop off a physical chain such that it ends at site A (or B) at _both_ ends. \n",
    "\n",
    "1. Construct the Hamiltonian $H_{OBC}'$ for the AA-terminiation by constructing the previous $2N \\times 2N$ Hamiltonian $H_{OBC}$ and deleting the last row and column. \n",
    "2. Diagonalize $H_{OBC}'$ and plot its spectrum as a function of $m$. How does it differ from the spectrum for AB-termination? "
   ]
  },
  {
   "cell_type": "code",
   "execution_count": null,
   "metadata": {
    "scrolled": false
   },
   "outputs": [],
   "source": [
    "N = 80   # Number of unit cells\n",
    "Nm = 100  # Number of values of m to sample \n",
    "m_min = 0\n",
    "m_max = 2\n",
    "\n",
    "# Need to divide Nm-1 here instead of Nm to avoid a off-by-one error, \n",
    "# m varies from m_min to m_max, both endpoints inclusive, in steps of 2/Nstep\n",
    "mstep = (m_max-m_min)/(Nm-1)\n",
    "\n",
    "# Initialize variables to store the eigenvalues of the Hamiltonian. Note that we only have 2N-1 physical sites\n",
    "Eobc_mod = zeros(Nm, 2*N-1)\n",
    "\n",
    "# J does not depend on m, so can keep this outside the loop.     \n",
    "J = (sig_x - im*sig_y)/2\n",
    "\n",
    "for i in 1:Nm\n",
    "    m = m_min + mstep*(i-1)\n",
    "    M = m*sig_x\n",
    "\n",
    "    Hobc_mod = constructH1d(J, M, N,0)\n",
    "    Hobc_mod = Hobc_mod[1:(2*N-1), 1:(2*N-1)]    # Extract the first 2N-1 rows and columns \n",
    "\n",
    "    Eobc_mod[i,:] = eigvals(Hobc_mod)\n",
    "end\n",
    "\n",
    "plot(m_min:mstep:m_max, Eobc_mod, leg=false, xlab=\"m\", ylab=\"E\", title=\"SSH model with OBC and AA termination\")"
   ]
  },
  {
   "cell_type": "markdown",
   "metadata": {},
   "source": [
    "### V. Localized vs delocalized states\n",
    "1. Construct a function to compute the IPR for a given wavefunction, and compare the IPRs for a bulk vs a boundary state. \n",
    "2. For a fixed $m$, compute the IPR for all the eigenstates and plot them vs the energy of a state as a scatter plot. "
   ]
  },
  {
   "cell_type": "code",
   "execution_count": null,
   "metadata": {
    "scrolled": false
   },
   "outputs": [],
   "source": [
    "# Function to compute the inverse partitipation ratio for a given vector. \n",
    "IPR(vec) = 1/sum(abs.(vec).^4); \n",
    "\n",
    "m = 0.5\n",
    "N = 100 \n",
    "\n",
    "J = (sig_x - im*sig_y)/2\n",
    "M = m*sig_x \n",
    "\n",
    "Hobc = constructH1d(J, M, N, 0); \n",
    "\n",
    "# Initialize variable to store the IPRs of all the eigenstates\n",
    "iprlist = zeros(2*N)\n",
    "\n",
    "# Compute all 2N eigenstates and their IPR \n",
    "ulist = eigvecs(Hobc)';\n",
    "for i in 1:2*N\n",
    "    iprlist[i] = IPR(ulist[i,:])\n",
    "end\n",
    "\n",
    "plot(Elist, iprlist, \n",
    "    seriestype = :scatter, marker=:circle,\n",
    "    xlab=\"E\", ylab=\"IPR\", ylims=(0,Inf), leg=false, \n",
    "    )"
   ]
  },
  {
   "cell_type": "markdown",
   "metadata": {},
   "source": [
    "Note that there are exactly two low-lying IPRs, corresponding to the two zero modes localized at the ends of the system. "
   ]
  },
  {
   "cell_type": "markdown",
   "metadata": {},
   "source": [
    "### VI. (optional) Disorder\n",
    "\n",
    "Add disorder to the system by setting $H_{OBC}^{\\mathrm{dis}} =  H_{OBC} + V$, where  \n",
    "\n",
    "$$ \n",
    "     V = \\mathrm{diag}\\{\\mu_{0,A}, \\mu_{0,B}, \\mu_{1,A}, \\mu_{1,B},  \\dots , \\mu_{N-1,A}, \\mu_{N-1,B} \\}, \n",
    "$$ \n",
    "\n",
    "where $\\mu_{n,A/B} \\in [-W/2,W/2]$ are a set of random real numbers, and $W$ denotes the strength of disorder. \n",
    "\n",
    "1. Compute the spectrum of $H_{OBC}^{\\mathrm{dis}}$ as a function of $m$ for a fixed disorder realization (i.e., take the same $V$ for each value of $m$. Perform this computation for various values of $W$ between 0 and $\\sim 10m$. How does disorder affect the zero mode? \n",
    "2. Plot the energy vs IPR for the previous case deep in the topological regime. \n",
    "3. Next, take a correlated disorder which satisfies $\\mu_{n,A} = \\mu_{n,B} \\, \\forall \\, n$, i.e., choose a different $\\mu$ for each unit cell (as opposed to one for each site). Again plot the spectrum as a function of $m$, and note the fate of the zero mode. \n",
    "4. Plot the energy vs IPR for the previous case deep in the topological regime. "
   ]
  },
  {
   "cell_type": "code",
   "execution_count": null,
   "metadata": {
    "scrolled": false
   },
   "outputs": [],
   "source": [
    "# Construct a realization of the diagonal vs Anderson disorder. \n",
    "# Since rand() returns a value between 0 and 1, shift and rescale to get values in [-W/2,W/2]\n",
    "W = 1.0  # Disorder strength\n",
    "V_diagonal = Diagonal( W * (rand(2*N).-0.5) );\n",
    "V_anderson = kron(Diagonal( W * (rand(N).-0.5) ), Diagonal([1,1]));"
   ]
  },
  {
   "cell_type": "code",
   "execution_count": null,
   "metadata": {
    "scrolled": false
   },
   "outputs": [],
   "source": [
    "m = 0.5\n",
    "N = 100 \n",
    "\n",
    "# Construct the real space Hamiltonian Hobc without disorder \n",
    "J = (sig_x - im*sig_y)/2\n",
    "M = m*sig_x \n",
    "pbc = 0\n",
    "Hobc = constructH1d(J, M, N, pbc);\n",
    "\n",
    "\n",
    "# Compute the disordered Hailtonians\n",
    "Hdiagonal_disorder = Hobc + V_diagonal\n",
    "Handerson_disorder = Hobc + V_anderson\n",
    "\n",
    "# Initialize variable to store the IPRs of all the eigenstates\n",
    "iprlist_diag = zeros(2*N)\n",
    "iprlist_and = zeros(2*N)\n",
    "\n",
    "# Compute all the eigenstates for diagonal disorder\n",
    "ulist_diag = eigvecs(Hdiagonal_disorder)';\n",
    "ulist_and = eigvecs(Handerson_disorder)';\n",
    "\n",
    "# Compute the IPRs for all the eigenstates\n",
    "for i in 1:2*N\n",
    "    iprlist_diag[i] = IPR(ulist_diag[i,:])\n",
    "    iprlist_and[i] = IPR(ulist_and[i,:])\n",
    "end\n",
    "\n",
    "display(plot(Elist, iprlist_diag, \n",
    "    seriestype = :scatter, marker=:circle, ylims=(0,Inf),\n",
    "    xlab=\"E\", ylab=\"IPR\",  leg=false, title=\"IPR vs energy for diagonal disorder with W = \"*string(W) \n",
    "    ))\n",
    "\n",
    "display(plot(Elist, iprlist_and, \n",
    "    seriestype = :scatter, marker=:circle, ylims=(0,Inf),\n",
    "    xlab=\"E\", ylab=\"IPR\",  leg=false, title=\"IPR vs energy for Anderson disorder with W = \"*string(W)  \n",
    "    ))"
   ]
  },
  {
   "cell_type": "markdown",
   "metadata": {},
   "source": [
    "Note that many of the states in the band come down in IPR, i.e., get localized. This localization is generally the primary effect of disorder in tight-binding models. However, disorder still cannot remove the boundary mode, and hence destroy the topological phase, until the band gap closes and reopens.  "
   ]
  }
 ],
 "metadata": {
  "kernelspec": {
   "display_name": "Julia 1.11.1",
   "language": "julia",
   "name": "julia-1.11"
  },
  "language_info": {
   "file_extension": ".jl",
   "mimetype": "application/julia",
   "name": "julia",
   "version": "1.11.1"
  }
 },
 "nbformat": 4,
 "nbformat_minor": 4
}
